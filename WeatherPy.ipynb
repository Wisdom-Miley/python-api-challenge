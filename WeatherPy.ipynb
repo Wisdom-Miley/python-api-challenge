{
 "cells": [
  {
   "cell_type": "markdown",
   "metadata": {},
   "source": [
    "# WeatherPy\n",
    "----\n",
    "\n",
    "#### Note\n",
    "* Instructions have been included for each segment. You do not have to follow them exactly, but they are included to help you think through the steps."
   ]
  },
  {
   "cell_type": "code",
   "execution_count": 1,
   "metadata": {},
   "outputs": [],
   "source": [
    "import pandas as pd\n",
    "import numpy as np\n",
    "import matplotlib.pyplot as plt\n",
    "import requests\n",
    "import json\n",
    "import time\n",
    "import scipy.stats as st\n",
    "from scipy.stats import linregress\n",
    "from pprint import pprint\n",
    "from citipy import citipy\n",
    "from api_keys import weather_api_key\n",
    "\n",
    "city_df = \"output_data/cities.csv\"\n",
    "\n",
    "lat_range = (-90, 90)\n",
    "lng_range = (-180,180)\n"
   ]
  },
  {
   "cell_type": "markdown",
   "metadata": {},
   "source": [
    "## Generate Cities List"
   ]
  },
  {
   "cell_type": "code",
   "execution_count": 2,
   "metadata": {},
   "outputs": [
    {
     "data": {
      "text/plain": [
       "598"
      ]
     },
     "execution_count": 2,
     "metadata": {},
     "output_type": "execute_result"
    }
   ],
   "source": [
    "#list for holding lat and cities\n",
    "lat = []\n",
    "cities = []\n",
    "\n",
    "#create 500 unique (non-repeat) cities based on latitude and longitude.\n",
    "lats = np.random.uniform(low =-90.000, high=90.000, size=1500)\n",
    "lngs = np.random.uniform(low =-180.000, high=180.000, size=1500)\n",
    "lat = zip(lats,lngs)\n",
    "\n",
    "for latitude in lat:\n",
    "    city = citipy.nearest_city(latitude[0],latitude[1]).city_name\n",
    "\n",
    "    if city not in cities:\n",
    "        cities.append(city)\n",
    "        \n",
    "len(cities)"
   ]
  },
  {
   "cell_type": "markdown",
   "metadata": {},
   "source": [
    "### Perform API Calls\n",
    "* Perform a weather check on each city using a series of successive API calls.\n",
    "* Include a print log of each city as it'sbeing processed (with the city number and city name).\n"
   ]
  },
  {
   "cell_type": "code",
   "execution_count": 3,
   "metadata": {
    "scrolled": true
   },
   "outputs": [
    {
     "name": "stdout",
     "output_type": "stream",
     "text": [
      "processing record1|puerto lopez\n",
      "processing record2|henties bay\n",
      "processing record3|albany\n",
      "processing record4|aklavik\n",
      "City not found.\n",
      "processing record5|bredasdorp\n",
      "processing record6|severo-kurilsk\n",
      "processing record7|hobart\n",
      "processing record8|opoczno\n",
      "processing record9|cabo san lucas\n",
      "processing record10|norman wells\n",
      "processing record11|kemi\n",
      "processing record12|kailua\n",
      "processing record13|yellowknife\n",
      "processing record14|georgetown\n",
      "processing record15|busselton\n",
      "processing record16|kapaa\n",
      "processing record17|tiarei\n",
      "processing record18|geraldton\n",
      "processing record19|new norfolk\n",
      "processing record20|king city\n",
      "processing record21|manuk mangkaw\n",
      "City not found.\n",
      "processing record22|astrea\n",
      "processing record23|sheregesh\n",
      "processing record24|palmer\n",
      "City not found.\n",
      "processing record25|sistranda\n",
      "processing record26|tiksi\n",
      "processing record27|mataura\n",
      "processing record28|kaka\n",
      "processing record29|rocha\n",
      "processing record30|cherskiy\n",
      "City not found.\n",
      "processing record31|ushuaia\n",
      "processing record32|half moon bay\n",
      "processing record33|port alfred\n",
      "processing record34|saldanha\n",
      "processing record35|fort nelson\n",
      "processing record36|faanui\n",
      "City not found.\n",
      "processing record37|sao joao da barra\n",
      "processing record38|komsomolskiy\n",
      "processing record39|cidreira\n",
      "processing record40|le portel\n",
      "processing record41|gat\n",
      "processing record42|ermelo\n",
      "processing record43|surt\n",
      "City not found.\n",
      "processing record44|puerto ayora\n",
      "processing record45|russell\n",
      "processing record46|rikitea\n",
      "processing record47|tasiilaq\n",
      "processing record48|dingle\n",
      "processing record49|ponta do sol\n",
      "City not found.\n",
      "processing record50|bluff\n",
      "processing record51|chuy\n",
      "processing record52|zemio\n",
      "processing record53|hermanus\n",
      "processing record54|airai\n",
      "processing record55|codrington\n",
      "processing record56|hay river\n",
      "processing record57|saskylakh\n",
      "processing record58|butaritari\n",
      "processing record59|hithadhoo\n",
      "processing record60|atuona\n",
      "processing record61|leningradskiy\n",
      "processing record62|upernavik\n",
      "processing record63|samarai\n",
      "processing record64|mahebourg\n",
      "processing record65|pevek\n",
      "processing record66|klaksvik\n",
      "processing record67|pamplona\n",
      "processing record68|punta arenas\n",
      "processing record69|tuktoyaktuk\n",
      "processing record70|vaini\n",
      "processing record71|esik\n",
      "processing record72|qaanaaq\n",
      "processing record73|tiznit\n",
      "processing record74|longyearbyen\n",
      "City not found.\n",
      "processing record75|lavrentiya\n",
      "processing record76|olinda\n",
      "processing record77|saint-philippe\n",
      "processing record78|cape town\n",
      "processing record79|tura\n",
      "processing record80|avarua\n",
      "processing record81|narsaq\n",
      "processing record82|phangnga\n",
      "processing record83|ust-tsilma\n",
      "processing record84|derby\n",
      "processing record85|hambantota\n",
      "processing record86|barrow\n",
      "processing record87|east london\n",
      "processing record88|san matias\n",
      "processing record89|yulara\n",
      "processing record90|clyde river\n",
      "City not found.\n",
      "City not found.\n",
      "processing record91|carnarvon\n",
      "processing record92|ucluelet\n",
      "processing record93|atambua\n",
      "processing record94|alamos\n",
      "processing record95|kota belud\n",
      "City not found.\n",
      "processing record96|olafsvik\n",
      "processing record97|dikson\n",
      "processing record98|esperance\n",
      "processing record99|maraba\n",
      "processing record100|labelle\n",
      "processing record101|vostok\n",
      "processing record102|salalah\n",
      "processing record103|inverell\n",
      "processing record104|svetlaya\n",
      "processing record105|vardo\n",
      "processing record106|wajir\n",
      "processing record107|kontagora\n",
      "processing record108|ushtobe\n",
      "processing record109|lebu\n",
      "processing record110|lata\n",
      "City not found.\n",
      "processing record111|katherine\n",
      "processing record112|port elizabeth\n",
      "processing record113|berlevag\n",
      "processing record114|ancud\n",
      "processing record115|isla vista\n",
      "processing record116|jaumave\n",
      "City not found.\n",
      "processing record117|kirakira\n",
      "processing record118|san carlos de bariloche\n",
      "processing record119|tagusao\n",
      "processing record120|san quintin\n",
      "processing record121|shibetsu\n",
      "processing record122|anse-bertrand\n",
      "City not found.\n",
      "processing record123|bethel\n",
      "processing record124|kampot\n",
      "processing record125|pallasovka\n",
      "processing record126|krasnoselkup\n",
      "processing record127|bengkulu\n",
      "processing record128|emerald\n",
      "processing record129|acapulco\n",
      "processing record130|aguas formosas\n",
      "processing record131|bardiyah\n",
      "processing record132|dunedin\n",
      "processing record133|zhizdra\n",
      "processing record134|rawson\n",
      "processing record135|beberibe\n",
      "processing record136|saint-pierre\n",
      "processing record137|ayaviri\n",
      "processing record138|nome\n",
      "processing record139|hofn\n",
      "processing record140|panama city\n",
      "processing record141|lamu\n",
      "processing record142|luderitz\n",
      "processing record143|hilo\n",
      "processing record144|cuenca\n",
      "City not found.\n",
      "processing record145|gwadar\n",
      "processing record146|sambava\n",
      "processing record147|villa del rosario\n",
      "processing record148|santiago del estero\n",
      "processing record149|liancheng\n",
      "City not found.\n",
      "processing record150|paamiut\n",
      "processing record151|qaqortoq\n",
      "processing record152|vryheid\n",
      "processing record153|kuminskiy\n",
      "processing record154|ribeira grande\n",
      "processing record155|nadym\n",
      "processing record156|zyryanka\n",
      "processing record157|kahului\n",
      "City not found.\n",
      "processing record158|wajima\n",
      "City not found.\n",
      "processing record159|mirnyy\n",
      "City not found.\n",
      "processing record160|uyuni\n",
      "processing record161|nouadhibou\n",
      "City not found.\n",
      "processing record162|port hardy\n",
      "City not found.\n",
      "processing record163|lompoc\n",
      "processing record164|mende\n",
      "processing record165|wladyslawowo\n",
      "processing record166|shelburne\n",
      "processing record167|srednekolymsk\n",
      "processing record168|talnakh\n",
      "processing record169|mananjary\n",
      "processing record170|sinnamary\n",
      "processing record171|arawa\n",
      "processing record172|walvis bay\n",
      "processing record173|tzaneen\n",
      "processing record174|alyangula\n",
      "City not found.\n",
      "processing record175|khatanga\n",
      "processing record176|yaan\n",
      "processing record177|saint-augustin\n",
      "processing record178|huarmey\n",
      "processing record179|kabanjahe\n",
      "processing record180|luang prabang\n",
      "processing record181|arraial do cabo\n",
      "processing record182|lososina\n",
      "processing record183|verkhoyansk\n",
      "processing record184|port said\n",
      "processing record185|flin flon\n",
      "processing record186|nyurba\n",
      "processing record187|balkanabat\n",
      "processing record188|axim\n",
      "processing record189|nikaia\n",
      "City not found.\n",
      "City not found.\n",
      "processing record190|mar del plata\n",
      "processing record191|kon tum\n",
      "processing record192|saint george\n",
      "City not found.\n",
      "processing record193|havoysund\n",
      "processing record194|lakes entrance\n",
      "processing record195|sisimiut\n",
      "processing record196|kidal\n",
      "processing record197|gamboula\n",
      "processing record198|oga\n",
      "processing record199|belgrade\n",
      "processing record200|gostilitsy\n",
      "processing record201|kamenka\n",
      "processing record202|seidu\n",
      "City not found.\n",
      "processing record203|ilulissat\n",
      "processing record204|champerico\n",
      "processing record205|thompson\n",
      "processing record206|gusau\n",
      "processing record207|smoky lake\n",
      "processing record208|hamilton\n",
      "City not found.\n",
      "City not found.\n",
      "processing record209|san ramon\n",
      "processing record210|huichapan\n",
      "processing record211|kyra\n",
      "processing record212|mutis\n",
      "processing record213|namibe\n",
      "City not found.\n",
      "processing record214|zhangye\n",
      "processing record215|mao\n",
      "processing record216|kalabo\n",
      "processing record217|castro\n",
      "processing record218|dzhebariki-khaya\n",
      "processing record219|sawakin\n",
      "processing record220|jamestown\n",
      "processing record221|chokurdakh\n",
      "processing record222|sobolevo\n",
      "processing record223|victoria\n",
      "processing record224|shar\n",
      "processing record225|kang\n",
      "City not found.\n",
      "processing record226|poronaysk\n",
      "City not found.\n",
      "processing record227|tandil\n",
      "processing record228|katangli\n",
      "City not found.\n",
      "processing record229|mongoumba\n",
      "processing record230|zhigansk\n",
      "processing record231|ayan\n",
      "processing record232|alice springs\n",
      "processing record233|dukat\n",
      "processing record234|green river\n",
      "processing record235|grindavik\n",
      "processing record236|wufeng\n",
      "processing record237|rossano\n",
      "processing record238|dhidhdhoo\n",
      "processing record239|provideniya\n",
      "processing record240|bud\n",
      "processing record241|nizhniy tsasuchey\n",
      "processing record242|tshikapa\n",
      "processing record243|kruisfontein\n",
      "processing record244|arrigorriaga\n",
      "City not found.\n",
      "processing record245|olga\n",
      "processing record246|zeya\n",
      "processing record247|port hedland\n",
      "processing record248|broken hill\n",
      "processing record249|kaitangata\n",
      "processing record250|mountain home\n",
      "processing record251|usinsk\n",
      "processing record252|sokolo\n",
      "processing record253|deputatskiy\n",
      "processing record254|arica\n",
      "processing record255|padang\n",
      "processing record256|la ronge\n",
      "processing record257|kalevala\n"
     ]
    },
    {
     "name": "stdout",
     "output_type": "stream",
     "text": [
      "processing record258|chau doc\n",
      "City not found.\n",
      "processing record259|ridgecrest\n",
      "processing record260|dharchula\n",
      "processing record261|farafangana\n",
      "City not found.\n",
      "processing record262|bafra\n",
      "processing record263|frankfort\n",
      "processing record264|pisco\n",
      "processing record265|buta\n",
      "processing record266|ahipara\n",
      "City not found.\n",
      "processing record267|navolato\n",
      "processing record268|carbondale\n",
      "processing record269|okhotsk\n",
      "processing record270|faya\n",
      "processing record271|carballo\n",
      "processing record272|lingao\n",
      "processing record273|kodiak\n",
      "processing record274|constitucion\n",
      "processing record275|kutum\n",
      "processing record276|nanortalik\n",
      "processing record277|kassala\n",
      "processing record278|ondjiva\n",
      "City not found.\n",
      "processing record279|chabahar\n",
      "processing record280|batsfjord\n",
      "City not found.\n",
      "processing record281|karratha\n",
      "processing record282|necochea\n",
      "processing record283|hualmay\n",
      "processing record284|pierre\n",
      "processing record285|santa ana\n",
      "processing record286|labuhan\n",
      "processing record287|ganzhou\n",
      "processing record288|asau\n",
      "processing record289|kununurra\n",
      "processing record290|hommelvik\n",
      "processing record291|honiara\n",
      "processing record292|progreso\n",
      "processing record293|kavieng\n",
      "processing record294|strangnas\n",
      "processing record295|uvinza\n",
      "processing record296|yamethin\n",
      "processing record297|rumphi\n",
      "processing record298|port hawkesbury\n",
      "processing record299|ust-koksa\n",
      "City not found.\n",
      "processing record300|pullman\n",
      "processing record301|itoman\n",
      "processing record302|general pico\n",
      "processing record303|warkworth\n",
      "processing record304|durango\n",
      "processing record305|batagay-alyta\n",
      "processing record306|coquimbo\n",
      "processing record307|alofi\n",
      "processing record308|avera\n",
      "processing record309|bonavista\n",
      "processing record310|amapa\n",
      "processing record311|paptalaya\n",
      "processing record312|gazli\n",
      "processing record313|natchitoches\n",
      "processing record314|kamina\n",
      "processing record315|pangkalanbuun\n",
      "processing record316|marawi\n",
      "processing record317|mandalgovi\n",
      "processing record318|rodniki\n",
      "processing record319|port-gentil\n",
      "processing record320|reitz\n",
      "processing record321|ust-karsk\n",
      "processing record322|manggar\n",
      "processing record323|bac lieu\n",
      "processing record324|riyadh\n",
      "processing record325|nerchinskiy zavod\n",
      "processing record326|ambilobe\n",
      "processing record327|mount gambier\n",
      "processing record328|marzuq\n",
      "processing record329|povenets\n",
      "processing record330|pula\n",
      "processing record331|vikhorevka\n",
      "processing record332|port moresby\n",
      "City not found.\n",
      "processing record333|avallon\n",
      "processing record334|vao\n",
      "processing record335|sidney\n",
      "City not found.\n",
      "processing record336|wageningen\n",
      "processing record337|rio gallegos\n",
      "processing record338|bubaque\n",
      "processing record339|pitea\n",
      "processing record340|lorengau\n",
      "processing record341|rochester\n",
      "processing record342|qui nhon\n",
      "processing record343|port augusta\n",
      "processing record344|gornopravdinsk\n",
      "processing record345|tanout\n",
      "processing record346|bauchi\n",
      "processing record347|nelson bay\n",
      "processing record348|nikolskoye\n",
      "processing record349|san lawrenz\n",
      "processing record350|prince george\n",
      "processing record351|pontianak\n",
      "processing record352|kihurio\n",
      "processing record353|sundsvall\n",
      "processing record354|santa maria\n",
      "processing record355|san felipe\n",
      "processing record356|kloulklubed\n",
      "processing record357|zhongxing\n",
      "City not found.\n",
      "processing record358|pangnirtung\n",
      "processing record359|barra patuca\n",
      "processing record360|nantucket\n",
      "processing record361|torbay\n",
      "processing record362|sisophon\n",
      "processing record363|sitka\n",
      "processing record364|petropavlovsk-kamchatskiy\n",
      "processing record365|sao filipe\n",
      "processing record366|ahuimanu\n",
      "processing record367|rafaela\n",
      "processing record368|port macquarie\n",
      "City not found.\n",
      "processing record369|coari\n",
      "processing record370|beringovskiy\n",
      "processing record371|cochrane\n",
      "processing record372|isangel\n",
      "processing record373|takoradi\n",
      "processing record374|itarema\n",
      "City not found.\n",
      "processing record375|lhokseumawe\n",
      "processing record376|atar\n",
      "processing record377|leshukonskoye\n",
      "processing record378|joanopolis\n",
      "processing record379|dayong\n",
      "processing record380|oktyabrskiy\n",
      "processing record381|bilibino\n",
      "processing record382|amuntai\n",
      "processing record383|lasa\n",
      "processing record384|pombas\n",
      "processing record385|temiscaming\n",
      "processing record386|basco\n",
      "processing record387|najran\n",
      "processing record388|ruthin\n",
      "processing record389|souillac\n",
      "processing record390|anadyr\n",
      "processing record391|rajur\n",
      "processing record392|sahaswan\n",
      "processing record393|roebourne\n",
      "processing record394|sorland\n",
      "processing record395|sapouy\n",
      "processing record396|astana\n",
      "processing record397|bathsheba\n",
      "processing record398|bowen\n",
      "processing record399|minab\n",
      "City not found.\n",
      "processing record400|cayenne\n",
      "processing record401|churapcha\n",
      "processing record402|guerrero negro\n",
      "processing record403|glendive\n",
      "processing record404|mareeba\n",
      "processing record405|kroya\n",
      "processing record406|tombouctou\n",
      "processing record407|iqaluit\n",
      "processing record408|ozernovskiy\n",
      "processing record409|dudinka\n",
      "processing record410|iquique\n",
      "processing record411|korla\n",
      "processing record412|ballina\n",
      "processing record413|hinesburg\n",
      "processing record414|praia da vitoria\n",
      "processing record415|tessalit\n",
      "processing record416|esso\n",
      "City not found.\n",
      "City not found.\n",
      "City not found.\n",
      "processing record417|whitehorse\n",
      "processing record418|post falls\n",
      "processing record419|bossangoa\n",
      "processing record420|hovd\n",
      "City not found.\n",
      "processing record421|uddevalla\n",
      "processing record422|gordeyevka\n",
      "processing record423|naryan-mar\n",
      "processing record424|minot\n",
      "processing record425|masunga\n",
      "processing record426|san jose\n",
      "processing record427|mapastepec\n",
      "City not found.\n",
      "processing record428|fairbanks\n",
      "processing record429|christchurch\n",
      "processing record430|atbasar\n",
      "processing record431|riviere-au-renard\n",
      "processing record432|hailar\n",
      "processing record433|jitra\n",
      "processing record434|tarnogskiy gorodok\n",
      "processing record435|san patricio\n",
      "processing record436|bambous virieux\n",
      "processing record437|kataysk\n",
      "City not found.\n",
      "processing record438|weligama\n",
      "processing record439|bandarbeyla\n",
      "processing record440|rabo de peixe\n",
      "processing record441|presidencia roque saenz pena\n",
      "processing record442|feni\n",
      "processing record443|kavaratti\n",
      "processing record444|quelimane\n",
      "processing record445|beisfjord\n",
      "processing record446|igunga\n",
      "processing record447|dungarpur\n",
      "processing record448|makakilo city\n",
      "processing record449|boa vista\n",
      "processing record450|newport\n",
      "processing record451|sarangani\n",
      "processing record452|kupang\n",
      "processing record453|sai buri\n",
      "processing record454|esfarayen\n",
      "processing record455|brazzaville\n",
      "processing record456|juneau\n",
      "processing record457|te anau\n",
      "processing record458|moundou\n",
      "processing record459|barcelos\n",
      "processing record460|yerbogachen\n",
      "City not found.\n",
      "processing record461|ulladulla\n",
      "processing record462|beira\n",
      "processing record463|camana\n",
      "processing record464|along\n",
      "processing record465|daru\n",
      "processing record466|laje\n",
      "City not found.\n",
      "processing record467|pilot butte\n",
      "processing record468|kalmunai\n",
      "processing record469|zhicheng\n",
      "processing record470|burnie\n",
      "City not found.\n",
      "processing record471|pingdu\n",
      "processing record472|navalmoral de la mata\n",
      "processing record473|san luis\n",
      "processing record474|fougamou\n",
      "processing record475|grand gaube\n",
      "processing record476|abapo\n",
      "processing record477|cabedelo\n",
      "processing record478|tautira\n",
      "processing record479|pokhara\n",
      "processing record480|willowmore\n",
      "processing record481|samana\n",
      "City not found.\n",
      "processing record482|college\n",
      "processing record483|guozhen\n",
      "processing record484|bontang\n",
      "processing record485|uturoa\n",
      "processing record486|touros\n",
      "processing record487|vangaindrano\n",
      "processing record488|vila franca do campo\n",
      "processing record489|berdigestyakh\n",
      "processing record490|buraydah\n",
      "processing record491|eureka\n",
      "processing record492|fare\n",
      "processing record493|dobre miasto\n",
      "processing record494|yamada\n",
      "City not found.\n",
      "processing record495|marsa matruh\n",
      "City not found.\n",
      "processing record496|cooma\n",
      "processing record497|pochutla\n",
      "processing record498|kovdor\n",
      "processing record499|uarini\n",
      "processing record500|poya\n",
      "processing record501|jadu\n",
      "processing record502|mattawa\n",
      "processing record503|hervey bay\n",
      "processing record504|jumla\n",
      "processing record505|adrar\n",
      "processing record506|lobva\n",
      "processing record507|chernyshevskiy\n",
      "processing record508|bagdarin\n",
      "processing record509|pacific grove\n",
      "processing record510|bria\n",
      "processing record511|kaihua\n",
      "processing record512|sabirabad\n",
      "processing record513|ust-maya\n",
      "processing record514|charters towers\n"
     ]
    },
    {
     "name": "stdout",
     "output_type": "stream",
     "text": [
      "processing record515|san angelo\n",
      "processing record516|kashi\n",
      "City not found.\n",
      "City not found.\n",
      "processing record517|enkhuizen\n",
      "processing record518|pangoa\n",
      "processing record519|cockburn town\n",
      "City not found.\n",
      "processing record520|khorixas\n",
      "processing record521|maniitsoq\n",
      "processing record522|guaimaro\n",
      "processing record523|ibitinga\n",
      "processing record524|xuddur\n",
      "processing record525|swan hill\n",
      "processing record526|senneterre\n",
      "processing record527|sale\n",
      "processing record528|broome\n",
      "City not found.\n",
      "processing record529|iranshahr\n",
      "processing record530|ngunguru\n",
      "processing record531|chara\n",
      "processing record532|camacha\n",
      "processing record533|buchanan\n",
      "processing record534|vestmannaeyjar\n",
      "processing record535|san javier\n",
      "processing record536|maloy\n",
      "processing record537|tuatapere\n",
      "-----------------------------\n",
      "Data Retrieval Complete\n"
     ]
    }
   ],
   "source": [
    "# Build query URL\n",
    "\n",
    "url = \"http://api.openweathermap.org/data/2.5/weather?\"\n",
    "\n",
    "city_name_list = []\n",
    "cloudiness_list = []\n",
    "country_list = []\n",
    "date_list = []\n",
    "humidity_list = []\n",
    "lat_list = []\n",
    "lng_list = []\n",
    "max_temp_list = []\n",
    "wind_speed_list = []\n",
    "\n",
    "i = 1\n",
    "for city in cities:\n",
    "    city=city\n",
    "    query_url = url + \"appid=\" + weather_api_key + \"&q=\" + city\n",
    "    response = requests.get(query_url).json()\n",
    "\n",
    "    try:\n",
    "        \n",
    "        city_name_list.append(response[\"name\"])\n",
    "        cloudiness_list.append(response[\"clouds\"][\"all\"])\n",
    "        country_list.append(response[\"sys\"][\"country\"])\n",
    "        date_list.append(response[\"dt\"])\n",
    "        humidity_list.append(response[\"main\"][\"humidity\"])\n",
    "        lat_list.append(response[\"coord\"][\"lat\"])\n",
    "        lng_list.append(response[\"coord\"][\"lon\"])\n",
    "        max_temp_list.append(response['main']['temp_max'])\n",
    "        wind_speed_list.append(response[\"wind\"][\"speed\"])\n",
    "        print(f\"processing record{i}|{city}\") \n",
    "        i+=1\n",
    "        \n",
    "  \n",
    "    except(KeyError):\n",
    "        print(\"City not found.\")\n",
    "\n",
    "print(\"-----------------------------\")\n",
    "print(\"Data Retrieval Complete\")   "
   ]
  },
  {
   "cell_type": "markdown",
   "metadata": {},
   "source": [
    "### Convert Raw Data to DataFrame\n",
    "* Export the city data into a .csv.\n",
    "* Display the DataFrame"
   ]
  },
  {
   "cell_type": "code",
   "execution_count": 4,
   "metadata": {},
   "outputs": [
    {
     "data": {
      "text/html": [
       "<div>\n",
       "<style scoped>\n",
       "    .dataframe tbody tr th:only-of-type {\n",
       "        vertical-align: middle;\n",
       "    }\n",
       "\n",
       "    .dataframe tbody tr th {\n",
       "        vertical-align: top;\n",
       "    }\n",
       "\n",
       "    .dataframe thead th {\n",
       "        text-align: right;\n",
       "    }\n",
       "</style>\n",
       "<table border=\"1\" class=\"dataframe\">\n",
       "  <thead>\n",
       "    <tr style=\"text-align: right;\">\n",
       "      <th></th>\n",
       "      <th>City</th>\n",
       "      <th>Country</th>\n",
       "      <th>Date</th>\n",
       "      <th>Lat</th>\n",
       "      <th>Lng</th>\n",
       "      <th>Max Temp</th>\n",
       "      <th>Cloudiness</th>\n",
       "      <th>Humidity</th>\n",
       "      <th>Wind Speed</th>\n",
       "    </tr>\n",
       "  </thead>\n",
       "  <tbody>\n",
       "    <tr>\n",
       "      <th>0</th>\n",
       "      <td>Puerto López</td>\n",
       "      <td>CO</td>\n",
       "      <td>1631757072</td>\n",
       "      <td>4.0845</td>\n",
       "      <td>-72.9560</td>\n",
       "      <td>294.62</td>\n",
       "      <td>96</td>\n",
       "      <td>96</td>\n",
       "      <td>1.26</td>\n",
       "    </tr>\n",
       "    <tr>\n",
       "      <th>1</th>\n",
       "      <td>Henties Bay</td>\n",
       "      <td>NA</td>\n",
       "      <td>1631757073</td>\n",
       "      <td>-22.1160</td>\n",
       "      <td>14.2845</td>\n",
       "      <td>282.51</td>\n",
       "      <td>2</td>\n",
       "      <td>90</td>\n",
       "      <td>5.05</td>\n",
       "    </tr>\n",
       "    <tr>\n",
       "      <th>2</th>\n",
       "      <td>Albany</td>\n",
       "      <td>US</td>\n",
       "      <td>1631757075</td>\n",
       "      <td>42.6001</td>\n",
       "      <td>-73.9662</td>\n",
       "      <td>292.74</td>\n",
       "      <td>100</td>\n",
       "      <td>94</td>\n",
       "      <td>0.72</td>\n",
       "    </tr>\n",
       "    <tr>\n",
       "      <th>3</th>\n",
       "      <td>Aklavik</td>\n",
       "      <td>CA</td>\n",
       "      <td>1631757076</td>\n",
       "      <td>68.2191</td>\n",
       "      <td>-135.0107</td>\n",
       "      <td>287.61</td>\n",
       "      <td>56</td>\n",
       "      <td>65</td>\n",
       "      <td>2.00</td>\n",
       "    </tr>\n",
       "    <tr>\n",
       "      <th>4</th>\n",
       "      <td>Bredasdorp</td>\n",
       "      <td>ZA</td>\n",
       "      <td>1631757077</td>\n",
       "      <td>-34.5322</td>\n",
       "      <td>20.0403</td>\n",
       "      <td>281.77</td>\n",
       "      <td>70</td>\n",
       "      <td>93</td>\n",
       "      <td>1.03</td>\n",
       "    </tr>\n",
       "  </tbody>\n",
       "</table>\n",
       "</div>"
      ],
      "text/plain": [
       "           City Country        Date      Lat       Lng  Max Temp  Cloudiness  \\\n",
       "0  Puerto López      CO  1631757072   4.0845  -72.9560    294.62          96   \n",
       "1   Henties Bay      NA  1631757073 -22.1160   14.2845    282.51           2   \n",
       "2        Albany      US  1631757075  42.6001  -73.9662    292.74         100   \n",
       "3       Aklavik      CA  1631757076  68.2191 -135.0107    287.61          56   \n",
       "4    Bredasdorp      ZA  1631757077 -34.5322   20.0403    281.77          70   \n",
       "\n",
       "   Humidity  Wind Speed  \n",
       "0        96        1.26  \n",
       "1        90        5.05  \n",
       "2        94        0.72  \n",
       "3        65        2.00  \n",
       "4        93        1.03  "
      ]
     },
     "execution_count": 4,
     "metadata": {},
     "output_type": "execute_result"
    }
   ],
   "source": [
    "\n",
    "city_df = pd.DataFrame({\"City\":city_name_list, \n",
    "                        \"Country\":country_list,\n",
    "                        \"Date\":date_list, \n",
    "                        \"Lat\":lat_list,\n",
    "                        \"Lng\":lng_list,\n",
    "                        \"Max Temp\":max_temp_list,\n",
    "                        \"Cloudiness\":cloudiness_list, \n",
    "                        \"Humidity\":humidity_list,\n",
    "                        \"Wind Speed\":wind_speed_list})\n",
    "city_df.head()"
   ]
  },
  {
   "cell_type": "code",
   "execution_count": 5,
   "metadata": {},
   "outputs": [
    {
     "data": {
      "text/html": [
       "<div>\n",
       "<style scoped>\n",
       "    .dataframe tbody tr th:only-of-type {\n",
       "        vertical-align: middle;\n",
       "    }\n",
       "\n",
       "    .dataframe tbody tr th {\n",
       "        vertical-align: top;\n",
       "    }\n",
       "\n",
       "    .dataframe thead th {\n",
       "        text-align: right;\n",
       "    }\n",
       "</style>\n",
       "<table border=\"1\" class=\"dataframe\">\n",
       "  <thead>\n",
       "    <tr style=\"text-align: right;\">\n",
       "      <th></th>\n",
       "      <th>City</th>\n",
       "      <th>Country</th>\n",
       "      <th>Date</th>\n",
       "      <th>Lat</th>\n",
       "      <th>Lng</th>\n",
       "      <th>Max Temp</th>\n",
       "      <th>Cloudiness</th>\n",
       "      <th>Humidity</th>\n",
       "      <th>Wind Speed</th>\n",
       "    </tr>\n",
       "  </thead>\n",
       "  <tbody>\n",
       "    <tr>\n",
       "      <th>0</th>\n",
       "      <td>Puerto López</td>\n",
       "      <td>CO</td>\n",
       "      <td>1631757072</td>\n",
       "      <td>4.0845</td>\n",
       "      <td>-72.9560</td>\n",
       "      <td>294.62</td>\n",
       "      <td>96</td>\n",
       "      <td>96</td>\n",
       "      <td>1.26</td>\n",
       "    </tr>\n",
       "    <tr>\n",
       "      <th>1</th>\n",
       "      <td>Henties Bay</td>\n",
       "      <td>NA</td>\n",
       "      <td>1631757073</td>\n",
       "      <td>-22.1160</td>\n",
       "      <td>14.2845</td>\n",
       "      <td>282.51</td>\n",
       "      <td>2</td>\n",
       "      <td>90</td>\n",
       "      <td>5.05</td>\n",
       "    </tr>\n",
       "    <tr>\n",
       "      <th>2</th>\n",
       "      <td>Albany</td>\n",
       "      <td>US</td>\n",
       "      <td>1631757075</td>\n",
       "      <td>42.6001</td>\n",
       "      <td>-73.9662</td>\n",
       "      <td>292.74</td>\n",
       "      <td>100</td>\n",
       "      <td>94</td>\n",
       "      <td>0.72</td>\n",
       "    </tr>\n",
       "    <tr>\n",
       "      <th>3</th>\n",
       "      <td>Aklavik</td>\n",
       "      <td>CA</td>\n",
       "      <td>1631757076</td>\n",
       "      <td>68.2191</td>\n",
       "      <td>-135.0107</td>\n",
       "      <td>287.61</td>\n",
       "      <td>56</td>\n",
       "      <td>65</td>\n",
       "      <td>2.00</td>\n",
       "    </tr>\n",
       "    <tr>\n",
       "      <th>4</th>\n",
       "      <td>Bredasdorp</td>\n",
       "      <td>ZA</td>\n",
       "      <td>1631757077</td>\n",
       "      <td>-34.5322</td>\n",
       "      <td>20.0403</td>\n",
       "      <td>281.77</td>\n",
       "      <td>70</td>\n",
       "      <td>93</td>\n",
       "      <td>1.03</td>\n",
       "    </tr>\n",
       "    <tr>\n",
       "      <th>...</th>\n",
       "      <td>...</td>\n",
       "      <td>...</td>\n",
       "      <td>...</td>\n",
       "      <td>...</td>\n",
       "      <td>...</td>\n",
       "      <td>...</td>\n",
       "      <td>...</td>\n",
       "      <td>...</td>\n",
       "      <td>...</td>\n",
       "    </tr>\n",
       "    <tr>\n",
       "      <th>532</th>\n",
       "      <td>Buchanan</td>\n",
       "      <td>LR</td>\n",
       "      <td>1631757650</td>\n",
       "      <td>5.8808</td>\n",
       "      <td>-10.0467</td>\n",
       "      <td>297.07</td>\n",
       "      <td>100</td>\n",
       "      <td>91</td>\n",
       "      <td>2.77</td>\n",
       "    </tr>\n",
       "    <tr>\n",
       "      <th>533</th>\n",
       "      <td>Vestmannaeyjar</td>\n",
       "      <td>IS</td>\n",
       "      <td>1631757652</td>\n",
       "      <td>63.4427</td>\n",
       "      <td>-20.2734</td>\n",
       "      <td>285.29</td>\n",
       "      <td>100</td>\n",
       "      <td>94</td>\n",
       "      <td>13.66</td>\n",
       "    </tr>\n",
       "    <tr>\n",
       "      <th>534</th>\n",
       "      <td>San Javier</td>\n",
       "      <td>ES</td>\n",
       "      <td>1631757653</td>\n",
       "      <td>37.8063</td>\n",
       "      <td>-0.8374</td>\n",
       "      <td>296.62</td>\n",
       "      <td>0</td>\n",
       "      <td>87</td>\n",
       "      <td>1.03</td>\n",
       "    </tr>\n",
       "    <tr>\n",
       "      <th>535</th>\n",
       "      <td>Måløy</td>\n",
       "      <td>NO</td>\n",
       "      <td>1631757654</td>\n",
       "      <td>61.9353</td>\n",
       "      <td>5.1136</td>\n",
       "      <td>285.41</td>\n",
       "      <td>100</td>\n",
       "      <td>92</td>\n",
       "      <td>1.79</td>\n",
       "    </tr>\n",
       "    <tr>\n",
       "      <th>536</th>\n",
       "      <td>Tuatapere</td>\n",
       "      <td>NZ</td>\n",
       "      <td>1631757656</td>\n",
       "      <td>-46.1333</td>\n",
       "      <td>167.6833</td>\n",
       "      <td>282.49</td>\n",
       "      <td>95</td>\n",
       "      <td>74</td>\n",
       "      <td>2.28</td>\n",
       "    </tr>\n",
       "  </tbody>\n",
       "</table>\n",
       "<p>537 rows × 9 columns</p>\n",
       "</div>"
      ],
      "text/plain": [
       "               City Country        Date      Lat       Lng  Max Temp  \\\n",
       "0      Puerto López      CO  1631757072   4.0845  -72.9560    294.62   \n",
       "1       Henties Bay      NA  1631757073 -22.1160   14.2845    282.51   \n",
       "2            Albany      US  1631757075  42.6001  -73.9662    292.74   \n",
       "3           Aklavik      CA  1631757076  68.2191 -135.0107    287.61   \n",
       "4        Bredasdorp      ZA  1631757077 -34.5322   20.0403    281.77   \n",
       "..              ...     ...         ...      ...       ...       ...   \n",
       "532        Buchanan      LR  1631757650   5.8808  -10.0467    297.07   \n",
       "533  Vestmannaeyjar      IS  1631757652  63.4427  -20.2734    285.29   \n",
       "534      San Javier      ES  1631757653  37.8063   -0.8374    296.62   \n",
       "535           Måløy      NO  1631757654  61.9353    5.1136    285.41   \n",
       "536       Tuatapere      NZ  1631757656 -46.1333  167.6833    282.49   \n",
       "\n",
       "     Cloudiness  Humidity  Wind Speed  \n",
       "0            96        96        1.26  \n",
       "1             2        90        5.05  \n",
       "2           100        94        0.72  \n",
       "3            56        65        2.00  \n",
       "4            70        93        1.03  \n",
       "..          ...       ...         ...  \n",
       "532         100        91        2.77  \n",
       "533         100        94       13.66  \n",
       "534           0        87        1.03  \n",
       "535         100        92        1.79  \n",
       "536          95        74        2.28  \n",
       "\n",
       "[537 rows x 9 columns]"
      ]
     },
     "execution_count": 5,
     "metadata": {},
     "output_type": "execute_result"
    }
   ],
   "source": [
    "city_df = city_df.dropna()\n",
    "city_df.to_csv(\"../output_data/cities_data.csv\", index= False, header = True)\n",
    "city_df"
   ]
  },
  {
   "cell_type": "code",
   "execution_count": 6,
   "metadata": {},
   "outputs": [
    {
     "data": {
      "text/html": [
       "<div>\n",
       "<style scoped>\n",
       "    .dataframe tbody tr th:only-of-type {\n",
       "        vertical-align: middle;\n",
       "    }\n",
       "\n",
       "    .dataframe tbody tr th {\n",
       "        vertical-align: top;\n",
       "    }\n",
       "\n",
       "    .dataframe thead th {\n",
       "        text-align: right;\n",
       "    }\n",
       "</style>\n",
       "<table border=\"1\" class=\"dataframe\">\n",
       "  <thead>\n",
       "    <tr style=\"text-align: right;\">\n",
       "      <th></th>\n",
       "      <th>City</th>\n",
       "      <th>Country</th>\n",
       "      <th>Date</th>\n",
       "      <th>Lat</th>\n",
       "      <th>Lng</th>\n",
       "      <th>Max Temp</th>\n",
       "      <th>Cloudiness</th>\n",
       "      <th>Humidity</th>\n",
       "      <th>Wind Speed</th>\n",
       "    </tr>\n",
       "  </thead>\n",
       "  <tbody>\n",
       "    <tr>\n",
       "      <th>0</th>\n",
       "      <td>Puerto López</td>\n",
       "      <td>CO</td>\n",
       "      <td>1631757072</td>\n",
       "      <td>4.0845</td>\n",
       "      <td>-72.9560</td>\n",
       "      <td>294.62</td>\n",
       "      <td>96</td>\n",
       "      <td>96</td>\n",
       "      <td>1.26</td>\n",
       "    </tr>\n",
       "    <tr>\n",
       "      <th>1</th>\n",
       "      <td>Henties Bay</td>\n",
       "      <td>NaN</td>\n",
       "      <td>1631757073</td>\n",
       "      <td>-22.1160</td>\n",
       "      <td>14.2845</td>\n",
       "      <td>282.51</td>\n",
       "      <td>2</td>\n",
       "      <td>90</td>\n",
       "      <td>5.05</td>\n",
       "    </tr>\n",
       "    <tr>\n",
       "      <th>2</th>\n",
       "      <td>Albany</td>\n",
       "      <td>US</td>\n",
       "      <td>1631757075</td>\n",
       "      <td>42.6001</td>\n",
       "      <td>-73.9662</td>\n",
       "      <td>292.74</td>\n",
       "      <td>100</td>\n",
       "      <td>94</td>\n",
       "      <td>0.72</td>\n",
       "    </tr>\n",
       "    <tr>\n",
       "      <th>3</th>\n",
       "      <td>Aklavik</td>\n",
       "      <td>CA</td>\n",
       "      <td>1631757076</td>\n",
       "      <td>68.2191</td>\n",
       "      <td>-135.0107</td>\n",
       "      <td>287.61</td>\n",
       "      <td>56</td>\n",
       "      <td>65</td>\n",
       "      <td>2.00</td>\n",
       "    </tr>\n",
       "    <tr>\n",
       "      <th>4</th>\n",
       "      <td>Bredasdorp</td>\n",
       "      <td>ZA</td>\n",
       "      <td>1631757077</td>\n",
       "      <td>-34.5322</td>\n",
       "      <td>20.0403</td>\n",
       "      <td>281.77</td>\n",
       "      <td>70</td>\n",
       "      <td>93</td>\n",
       "      <td>1.03</td>\n",
       "    </tr>\n",
       "    <tr>\n",
       "      <th>...</th>\n",
       "      <td>...</td>\n",
       "      <td>...</td>\n",
       "      <td>...</td>\n",
       "      <td>...</td>\n",
       "      <td>...</td>\n",
       "      <td>...</td>\n",
       "      <td>...</td>\n",
       "      <td>...</td>\n",
       "      <td>...</td>\n",
       "    </tr>\n",
       "    <tr>\n",
       "      <th>532</th>\n",
       "      <td>Buchanan</td>\n",
       "      <td>LR</td>\n",
       "      <td>1631757650</td>\n",
       "      <td>5.8808</td>\n",
       "      <td>-10.0467</td>\n",
       "      <td>297.07</td>\n",
       "      <td>100</td>\n",
       "      <td>91</td>\n",
       "      <td>2.77</td>\n",
       "    </tr>\n",
       "    <tr>\n",
       "      <th>533</th>\n",
       "      <td>Vestmannaeyjar</td>\n",
       "      <td>IS</td>\n",
       "      <td>1631757652</td>\n",
       "      <td>63.4427</td>\n",
       "      <td>-20.2734</td>\n",
       "      <td>285.29</td>\n",
       "      <td>100</td>\n",
       "      <td>94</td>\n",
       "      <td>13.66</td>\n",
       "    </tr>\n",
       "    <tr>\n",
       "      <th>534</th>\n",
       "      <td>San Javier</td>\n",
       "      <td>ES</td>\n",
       "      <td>1631757653</td>\n",
       "      <td>37.8063</td>\n",
       "      <td>-0.8374</td>\n",
       "      <td>296.62</td>\n",
       "      <td>0</td>\n",
       "      <td>87</td>\n",
       "      <td>1.03</td>\n",
       "    </tr>\n",
       "    <tr>\n",
       "      <th>535</th>\n",
       "      <td>Måløy</td>\n",
       "      <td>NO</td>\n",
       "      <td>1631757654</td>\n",
       "      <td>61.9353</td>\n",
       "      <td>5.1136</td>\n",
       "      <td>285.41</td>\n",
       "      <td>100</td>\n",
       "      <td>92</td>\n",
       "      <td>1.79</td>\n",
       "    </tr>\n",
       "    <tr>\n",
       "      <th>536</th>\n",
       "      <td>Tuatapere</td>\n",
       "      <td>NZ</td>\n",
       "      <td>1631757656</td>\n",
       "      <td>-46.1333</td>\n",
       "      <td>167.6833</td>\n",
       "      <td>282.49</td>\n",
       "      <td>95</td>\n",
       "      <td>74</td>\n",
       "      <td>2.28</td>\n",
       "    </tr>\n",
       "  </tbody>\n",
       "</table>\n",
       "<p>537 rows × 9 columns</p>\n",
       "</div>"
      ],
      "text/plain": [
       "               City Country        Date      Lat       Lng  Max Temp  \\\n",
       "0      Puerto López      CO  1631757072   4.0845  -72.9560    294.62   \n",
       "1       Henties Bay     NaN  1631757073 -22.1160   14.2845    282.51   \n",
       "2            Albany      US  1631757075  42.6001  -73.9662    292.74   \n",
       "3           Aklavik      CA  1631757076  68.2191 -135.0107    287.61   \n",
       "4        Bredasdorp      ZA  1631757077 -34.5322   20.0403    281.77   \n",
       "..              ...     ...         ...      ...       ...       ...   \n",
       "532        Buchanan      LR  1631757650   5.8808  -10.0467    297.07   \n",
       "533  Vestmannaeyjar      IS  1631757652  63.4427  -20.2734    285.29   \n",
       "534      San Javier      ES  1631757653  37.8063   -0.8374    296.62   \n",
       "535           Måløy      NO  1631757654  61.9353    5.1136    285.41   \n",
       "536       Tuatapere      NZ  1631757656 -46.1333  167.6833    282.49   \n",
       "\n",
       "     Cloudiness  Humidity  Wind Speed  \n",
       "0            96        96        1.26  \n",
       "1             2        90        5.05  \n",
       "2           100        94        0.72  \n",
       "3            56        65        2.00  \n",
       "4            70        93        1.03  \n",
       "..          ...       ...         ...  \n",
       "532         100        91        2.77  \n",
       "533         100        94       13.66  \n",
       "534           0        87        1.03  \n",
       "535         100        92        1.79  \n",
       "536          95        74        2.28  \n",
       "\n",
       "[537 rows x 9 columns]"
      ]
     },
     "execution_count": 6,
     "metadata": {},
     "output_type": "execute_result"
    }
   ],
   "source": [
    "city_df = pd.read_csv(\"../output_data/cities_data.csv\")\n",
    "city_df"
   ]
  },
  {
   "cell_type": "code",
   "execution_count": 7,
   "metadata": {},
   "outputs": [
    {
     "data": {
      "text/plain": [
       "City          537\n",
       "Country       533\n",
       "Date          537\n",
       "Lat           537\n",
       "Lng           537\n",
       "Max Temp      537\n",
       "Cloudiness    537\n",
       "Humidity      537\n",
       "Wind Speed    537\n",
       "dtype: int64"
      ]
     },
     "execution_count": 7,
     "metadata": {},
     "output_type": "execute_result"
    }
   ],
   "source": [
    "city_df.count()"
   ]
  },
  {
   "cell_type": "markdown",
   "metadata": {},
   "source": [
    "## Inspect the data and remove the cities where the humidity > 100%.\n",
    "----\n",
    "Skip this step if there are no cities that have humidity > 100%. "
   ]
  },
  {
   "cell_type": "code",
   "execution_count": 8,
   "metadata": {},
   "outputs": [
    {
     "data": {
      "text/plain": [
       "Int64Index([], dtype='int64')"
      ]
     },
     "execution_count": 8,
     "metadata": {},
     "output_type": "execute_result"
    }
   ],
   "source": [
    "#  Get the indices of cities that have humidity over 100%.\n",
    "indices = city_df[city_df[\"Humidity\"]>100].index\n",
    "indices"
   ]
  },
  {
   "cell_type": "code",
   "execution_count": 9,
   "metadata": {},
   "outputs": [
    {
     "data": {
      "text/html": [
       "<div>\n",
       "<style scoped>\n",
       "    .dataframe tbody tr th:only-of-type {\n",
       "        vertical-align: middle;\n",
       "    }\n",
       "\n",
       "    .dataframe tbody tr th {\n",
       "        vertical-align: top;\n",
       "    }\n",
       "\n",
       "    .dataframe thead th {\n",
       "        text-align: right;\n",
       "    }\n",
       "</style>\n",
       "<table border=\"1\" class=\"dataframe\">\n",
       "  <thead>\n",
       "    <tr style=\"text-align: right;\">\n",
       "      <th></th>\n",
       "      <th>City</th>\n",
       "      <th>Country</th>\n",
       "      <th>Date</th>\n",
       "      <th>Lat</th>\n",
       "      <th>Lng</th>\n",
       "      <th>Max Temp</th>\n",
       "      <th>Cloudiness</th>\n",
       "      <th>Humidity</th>\n",
       "      <th>Wind Speed</th>\n",
       "    </tr>\n",
       "  </thead>\n",
       "  <tbody>\n",
       "    <tr>\n",
       "      <th>0</th>\n",
       "      <td>Puerto López</td>\n",
       "      <td>CO</td>\n",
       "      <td>1631757072</td>\n",
       "      <td>4.0845</td>\n",
       "      <td>-72.9560</td>\n",
       "      <td>294.62</td>\n",
       "      <td>96</td>\n",
       "      <td>96</td>\n",
       "      <td>1.26</td>\n",
       "    </tr>\n",
       "    <tr>\n",
       "      <th>1</th>\n",
       "      <td>Henties Bay</td>\n",
       "      <td>NaN</td>\n",
       "      <td>1631757073</td>\n",
       "      <td>-22.1160</td>\n",
       "      <td>14.2845</td>\n",
       "      <td>282.51</td>\n",
       "      <td>2</td>\n",
       "      <td>90</td>\n",
       "      <td>5.05</td>\n",
       "    </tr>\n",
       "    <tr>\n",
       "      <th>2</th>\n",
       "      <td>Albany</td>\n",
       "      <td>US</td>\n",
       "      <td>1631757075</td>\n",
       "      <td>42.6001</td>\n",
       "      <td>-73.9662</td>\n",
       "      <td>292.74</td>\n",
       "      <td>100</td>\n",
       "      <td>94</td>\n",
       "      <td>0.72</td>\n",
       "    </tr>\n",
       "    <tr>\n",
       "      <th>3</th>\n",
       "      <td>Aklavik</td>\n",
       "      <td>CA</td>\n",
       "      <td>1631757076</td>\n",
       "      <td>68.2191</td>\n",
       "      <td>-135.0107</td>\n",
       "      <td>287.61</td>\n",
       "      <td>56</td>\n",
       "      <td>65</td>\n",
       "      <td>2.00</td>\n",
       "    </tr>\n",
       "    <tr>\n",
       "      <th>4</th>\n",
       "      <td>Bredasdorp</td>\n",
       "      <td>ZA</td>\n",
       "      <td>1631757077</td>\n",
       "      <td>-34.5322</td>\n",
       "      <td>20.0403</td>\n",
       "      <td>281.77</td>\n",
       "      <td>70</td>\n",
       "      <td>93</td>\n",
       "      <td>1.03</td>\n",
       "    </tr>\n",
       "    <tr>\n",
       "      <th>...</th>\n",
       "      <td>...</td>\n",
       "      <td>...</td>\n",
       "      <td>...</td>\n",
       "      <td>...</td>\n",
       "      <td>...</td>\n",
       "      <td>...</td>\n",
       "      <td>...</td>\n",
       "      <td>...</td>\n",
       "      <td>...</td>\n",
       "    </tr>\n",
       "    <tr>\n",
       "      <th>532</th>\n",
       "      <td>Buchanan</td>\n",
       "      <td>LR</td>\n",
       "      <td>1631757650</td>\n",
       "      <td>5.8808</td>\n",
       "      <td>-10.0467</td>\n",
       "      <td>297.07</td>\n",
       "      <td>100</td>\n",
       "      <td>91</td>\n",
       "      <td>2.77</td>\n",
       "    </tr>\n",
       "    <tr>\n",
       "      <th>533</th>\n",
       "      <td>Vestmannaeyjar</td>\n",
       "      <td>IS</td>\n",
       "      <td>1631757652</td>\n",
       "      <td>63.4427</td>\n",
       "      <td>-20.2734</td>\n",
       "      <td>285.29</td>\n",
       "      <td>100</td>\n",
       "      <td>94</td>\n",
       "      <td>13.66</td>\n",
       "    </tr>\n",
       "    <tr>\n",
       "      <th>534</th>\n",
       "      <td>San Javier</td>\n",
       "      <td>ES</td>\n",
       "      <td>1631757653</td>\n",
       "      <td>37.8063</td>\n",
       "      <td>-0.8374</td>\n",
       "      <td>296.62</td>\n",
       "      <td>0</td>\n",
       "      <td>87</td>\n",
       "      <td>1.03</td>\n",
       "    </tr>\n",
       "    <tr>\n",
       "      <th>535</th>\n",
       "      <td>Måløy</td>\n",
       "      <td>NO</td>\n",
       "      <td>1631757654</td>\n",
       "      <td>61.9353</td>\n",
       "      <td>5.1136</td>\n",
       "      <td>285.41</td>\n",
       "      <td>100</td>\n",
       "      <td>92</td>\n",
       "      <td>1.79</td>\n",
       "    </tr>\n",
       "    <tr>\n",
       "      <th>536</th>\n",
       "      <td>Tuatapere</td>\n",
       "      <td>NZ</td>\n",
       "      <td>1631757656</td>\n",
       "      <td>-46.1333</td>\n",
       "      <td>167.6833</td>\n",
       "      <td>282.49</td>\n",
       "      <td>95</td>\n",
       "      <td>74</td>\n",
       "      <td>2.28</td>\n",
       "    </tr>\n",
       "  </tbody>\n",
       "</table>\n",
       "<p>537 rows × 9 columns</p>\n",
       "</div>"
      ],
      "text/plain": [
       "               City Country        Date      Lat       Lng  Max Temp  \\\n",
       "0      Puerto López      CO  1631757072   4.0845  -72.9560    294.62   \n",
       "1       Henties Bay     NaN  1631757073 -22.1160   14.2845    282.51   \n",
       "2            Albany      US  1631757075  42.6001  -73.9662    292.74   \n",
       "3           Aklavik      CA  1631757076  68.2191 -135.0107    287.61   \n",
       "4        Bredasdorp      ZA  1631757077 -34.5322   20.0403    281.77   \n",
       "..              ...     ...         ...      ...       ...       ...   \n",
       "532        Buchanan      LR  1631757650   5.8808  -10.0467    297.07   \n",
       "533  Vestmannaeyjar      IS  1631757652  63.4427  -20.2734    285.29   \n",
       "534      San Javier      ES  1631757653  37.8063   -0.8374    296.62   \n",
       "535           Måløy      NO  1631757654  61.9353    5.1136    285.41   \n",
       "536       Tuatapere      NZ  1631757656 -46.1333  167.6833    282.49   \n",
       "\n",
       "     Cloudiness  Humidity  Wind Speed  \n",
       "0            96        96        1.26  \n",
       "1             2        90        5.05  \n",
       "2           100        94        0.72  \n",
       "3            56        65        2.00  \n",
       "4            70        93        1.03  \n",
       "..          ...       ...         ...  \n",
       "532         100        91        2.77  \n",
       "533         100        94       13.66  \n",
       "534           0        87        1.03  \n",
       "535         100        92        1.79  \n",
       "536          95        74        2.28  \n",
       "\n",
       "[537 rows x 9 columns]"
      ]
     },
     "execution_count": 9,
     "metadata": {},
     "output_type": "execute_result"
    }
   ],
   "source": [
    "# Make a new DataFrame equal to the city data to drop all humidity outliers by index.\n",
    "# Passing \"inplace=False\" will make a copy of the city_data DataFrame, which we call \"clean_city_data\".\n",
    "clean_city_data = city_df.drop(indices)\n",
    "clean_city_data"
   ]
  },
  {
   "cell_type": "code",
   "execution_count": 10,
   "metadata": {},
   "outputs": [
    {
     "data": {
      "text/plain": [
       "Int64Index([  0,   1,   2,   3,   4,   5,   6,   7,   8,   9,\n",
       "            ...\n",
       "            527, 528, 529, 530, 531, 532, 533, 534, 535, 536],\n",
       "           dtype='int64', length=530)"
      ]
     },
     "execution_count": 10,
     "metadata": {},
     "output_type": "execute_result"
    }
   ],
   "source": [
    "indices_more = city_df[city_df[\"Humidity\"]<100].index\n",
    "indices_more"
   ]
  },
  {
   "cell_type": "code",
   "execution_count": 11,
   "metadata": {},
   "outputs": [
    {
     "data": {
      "text/html": [
       "<div>\n",
       "<style scoped>\n",
       "    .dataframe tbody tr th:only-of-type {\n",
       "        vertical-align: middle;\n",
       "    }\n",
       "\n",
       "    .dataframe tbody tr th {\n",
       "        vertical-align: top;\n",
       "    }\n",
       "\n",
       "    .dataframe thead th {\n",
       "        text-align: right;\n",
       "    }\n",
       "</style>\n",
       "<table border=\"1\" class=\"dataframe\">\n",
       "  <thead>\n",
       "    <tr style=\"text-align: right;\">\n",
       "      <th></th>\n",
       "      <th>City</th>\n",
       "      <th>Country</th>\n",
       "      <th>Date</th>\n",
       "      <th>Lat</th>\n",
       "      <th>Lng</th>\n",
       "      <th>Max Temp</th>\n",
       "      <th>Cloudiness</th>\n",
       "      <th>Humidity</th>\n",
       "      <th>Wind Speed</th>\n",
       "    </tr>\n",
       "  </thead>\n",
       "  <tbody>\n",
       "    <tr>\n",
       "      <th>10</th>\n",
       "      <td>Keminmaa</td>\n",
       "      <td>FI</td>\n",
       "      <td>1631757085</td>\n",
       "      <td>65.8596</td>\n",
       "      <td>24.8228</td>\n",
       "      <td>275.02</td>\n",
       "      <td>90</td>\n",
       "      <td>100</td>\n",
       "      <td>0.51</td>\n",
       "    </tr>\n",
       "    <tr>\n",
       "      <th>30</th>\n",
       "      <td>Ushuaia</td>\n",
       "      <td>AR</td>\n",
       "      <td>1631756900</td>\n",
       "      <td>-54.8000</td>\n",
       "      <td>-68.3000</td>\n",
       "      <td>270.96</td>\n",
       "      <td>75</td>\n",
       "      <td>100</td>\n",
       "      <td>7.72</td>\n",
       "    </tr>\n",
       "    <tr>\n",
       "      <th>40</th>\n",
       "      <td>Kiryat Gat</td>\n",
       "      <td>IL</td>\n",
       "      <td>1631757118</td>\n",
       "      <td>31.6100</td>\n",
       "      <td>34.7642</td>\n",
       "      <td>296.15</td>\n",
       "      <td>9</td>\n",
       "      <td>100</td>\n",
       "      <td>1.41</td>\n",
       "    </tr>\n",
       "    <tr>\n",
       "      <th>84</th>\n",
       "      <td>Hambantota</td>\n",
       "      <td>LK</td>\n",
       "      <td>1631757173</td>\n",
       "      <td>6.1241</td>\n",
       "      <td>81.1185</td>\n",
       "      <td>299.34</td>\n",
       "      <td>20</td>\n",
       "      <td>100</td>\n",
       "      <td>2.57</td>\n",
       "    </tr>\n",
       "    <tr>\n",
       "      <th>234</th>\n",
       "      <td>Grindavik</td>\n",
       "      <td>IS</td>\n",
       "      <td>1631757215</td>\n",
       "      <td>63.8424</td>\n",
       "      <td>-22.4338</td>\n",
       "      <td>286.12</td>\n",
       "      <td>90</td>\n",
       "      <td>100</td>\n",
       "      <td>7.72</td>\n",
       "    </tr>\n",
       "    <tr>\n",
       "      <th>264</th>\n",
       "      <td>Buta</td>\n",
       "      <td>CD</td>\n",
       "      <td>1631757387</td>\n",
       "      <td>2.7858</td>\n",
       "      <td>24.7300</td>\n",
       "      <td>293.96</td>\n",
       "      <td>100</td>\n",
       "      <td>100</td>\n",
       "      <td>0.23</td>\n",
       "    </tr>\n",
       "    <tr>\n",
       "      <th>371</th>\n",
       "      <td>Isangel</td>\n",
       "      <td>VU</td>\n",
       "      <td>1631757496</td>\n",
       "      <td>-19.5500</td>\n",
       "      <td>169.2667</td>\n",
       "      <td>300.21</td>\n",
       "      <td>75</td>\n",
       "      <td>100</td>\n",
       "      <td>0.00</td>\n",
       "    </tr>\n",
       "  </tbody>\n",
       "</table>\n",
       "</div>"
      ],
      "text/plain": [
       "           City Country        Date      Lat       Lng  Max Temp  Cloudiness  \\\n",
       "10     Keminmaa      FI  1631757085  65.8596   24.8228    275.02          90   \n",
       "30      Ushuaia      AR  1631756900 -54.8000  -68.3000    270.96          75   \n",
       "40   Kiryat Gat      IL  1631757118  31.6100   34.7642    296.15           9   \n",
       "84   Hambantota      LK  1631757173   6.1241   81.1185    299.34          20   \n",
       "234   Grindavik      IS  1631757215  63.8424  -22.4338    286.12          90   \n",
       "264        Buta      CD  1631757387   2.7858   24.7300    293.96         100   \n",
       "371     Isangel      VU  1631757496 -19.5500  169.2667    300.21          75   \n",
       "\n",
       "     Humidity  Wind Speed  \n",
       "10        100        0.51  \n",
       "30        100        7.72  \n",
       "40        100        1.41  \n",
       "84        100        2.57  \n",
       "234       100        7.72  \n",
       "264       100        0.23  \n",
       "371       100        0.00  "
      ]
     },
     "execution_count": 11,
     "metadata": {},
     "output_type": "execute_result"
    }
   ],
   "source": [
    "clean_city_data = city_df.drop(indices_more)\n",
    "clean_city_data"
   ]
  },
  {
   "cell_type": "markdown",
   "metadata": {},
   "source": [
    "## Plotting the Data\n",
    "* Use proper labeling of the plots using plot titles (including date of analysis) and axes labels.\n",
    "* Save the plotted figures as .pngs."
   ]
  },
  {
   "cell_type": "markdown",
   "metadata": {},
   "source": [
    "# Latitude vs. Temperature Plot"
   ]
  },
  {
   "cell_type": "code",
   "execution_count": 12,
   "metadata": {},
   "outputs": [
    {
     "data": {
      "image/png": "[encoded data removed]",
      "text/plain": [
       "<Figure size 432x288 with 1 Axes>"
      ]
     },
     "metadata": {
      "needs_background": "light"
     },
     "output_type": "display_data"
    }
   ],
   "source": [
    "plt.scatter(city_df[\"Lat\"], city_df[\"Max Temp\"], facecolor = \"steelblue\", edgecolor = \"black\")\n",
    "plt.title(\"City Latitude vs. Max Temperature\")\n",
    "plt.xlabel(\"Laitude\")\n",
    "plt.ylabel(\"Max Temperature (F)\")\n",
    "plt.grid(linestyle='-', linewidth=1, alpha = 0.5)\n",
    "plt.savefig(\"F:\\Miley\\Data Analyst\\week 6\\python-api-challenge\\WeatherPy\\output_data\\lat_vs_temp.png\")\n",
    "plt.show()"
   ]
  },
  {
   "cell_type": "markdown",
   "metadata": {},
   "source": [
    "The hight temperatuer is found between -20 to 20 latitude in northen hemisphere and southern hemispherre."
   ]
  },
  {
   "cell_type": "markdown",
   "metadata": {},
   "source": [
    "# Latitude vs. Humidity(%) Plot"
   ]
  },
  {
   "cell_type": "code",
   "execution_count": 13,
   "metadata": {},
   "outputs": [
    {
     "data": {
      "image/png": "[encoded data removed]",
      "text/plain": [
       "<Figure size 432x288 with 1 Axes>"
      ]
     },
     "metadata": {
      "needs_background": "light"
     },
     "output_type": "display_data"
    }
   ],
   "source": [
    "plt.scatter(city_df[\"Lat\"], city_df[\"Humidity\"], facecolor = \"steelblue\", edgecolor = \"black\")\n",
    "plt.title(\"City Latitude vs. Humidity(%)Plot\")\n",
    "plt.xlabel(\"Laitude\")\n",
    "plt.ylabel(\"Humidity(%)\")\n",
    "plt.grid(linestyle='-', linewidth=1, alpha = 0.5)\n",
    "plt.savefig(\"F:\\Miley\\Data Analyst\\week 6\\python-api-challenge\\WeatherPy\\output_data\\lat_vs_hum.png\")\n",
    "plt.show()"
   ]
  },
  {
   "cell_type": "markdown",
   "metadata": {},
   "source": [
    "As the scatter plot figure, high humidity is more likely in northern hemisphere "
   ]
  },
  {
   "cell_type": "markdown",
   "metadata": {},
   "source": [
    "## Latitude vs. Cloudiness Plot"
   ]
  },
  {
   "cell_type": "code",
   "execution_count": 14,
   "metadata": {},
   "outputs": [
    {
     "data": {
      "image/png": "[encoded data removed]",
      "text/plain": [
       "<Figure size 432x288 with 1 Axes>"
      ]
     },
     "metadata": {
      "needs_background": "light"
     },
     "output_type": "display_data"
    }
   ],
   "source": [
    "plt.scatter(city_df[\"Lat\"], city_df[\"Cloudiness\"], facecolor = \"steelblue\", edgecolor = \"black\")\n",
    "plt.grid(linestyle='-', linewidth=1, alpha = 0.5)\n",
    "plt.title(\"City Latitude vs. Cloudiness(%)Plot\")\n",
    "plt.xlabel(\"Laitude\")\n",
    "plt.ylabel(\"Cloudiness(%)\")\n",
    "plt.title (\"Latitude vs. Cloudiness(%) Plot\")\n",
    "plt.savefig(\"F:\\Miley\\Data Analyst\\week 6\\python-api-challenge\\WeatherPy\\output_data\\lat_vs_clou.png\")\n",
    "plt.show()"
   ]
  },
  {
   "cell_type": "markdown",
   "metadata": {},
   "source": [
    "As the scatter plot figure above, cloudniess is widely spread across latitude"
   ]
  },
  {
   "cell_type": "markdown",
   "metadata": {},
   "source": [
    "## Latitude vs. Wind Speed Plot"
   ]
  },
  {
   "cell_type": "code",
   "execution_count": 15,
   "metadata": {},
   "outputs": [
    {
     "data": {
      "image/png": "[encoded data removed]",
      "text/plain": [
       "<Figure size 432x288 with 1 Axes>"
      ]
     },
     "metadata": {
      "needs_background": "light"
     },
     "output_type": "display_data"
    }
   ],
   "source": [
    "plt.scatter(city_df[\"Lat\"], city_df[\"Wind Speed\"], facecolor = \"steelblue\", edgecolor = \"black\")\n",
    "plt.grid(linestyle='-', linewidth=1, alpha = 0.5)\n",
    "plt.title(\"City Latitude vs. Wind Speed(%)Plot\")\n",
    "plt.xlabel(\"Laitude\")\n",
    "plt.ylabel(\"Wind Speed(mph)\")\n",
    "plt.title (\"Latitude vs. Wind Speed(mph) Plot\")\n",
    "plt.savefig(\"F:\\Miley\\Data Analyst\\week 6\\python-api-challenge\\WeatherPy\\output_data\\lat_vs_wind.png\")\n",
    "plt.show()"
   ]
  },
  {
   "cell_type": "markdown",
   "metadata": {},
   "source": [
    "As the scatter plot figure above, wind speed is widely spread across the latitude"
   ]
  },
  {
   "cell_type": "markdown",
   "metadata": {},
   "source": [
    "## Linear Regression"
   ]
  },
  {
   "cell_type": "markdown",
   "metadata": {},
   "source": [
    "# Northern Hemisphere - Max Temp vs. Latitude Linear Regression"
   ]
  },
  {
   "cell_type": "code",
   "execution_count": 22,
   "metadata": {},
   "outputs": [],
   "source": [
    "northern_hemisphere = city_df.loc[city_df[\"Lat\"] >= 0]\n",
    "southern_hemisphere = city_df.loc[city_df[\"Lat\"] < 0]\n",
    "def linear_agression(x,y):\n",
    "    print(f\"The r-squared is : {round(st.pearsonr(x, y)[0],2)}\")\n",
    "    (slope, intercept, rvalue, pvalue, stderr) = linregress(x, y)\n",
    "    regress_values = x * slope + intercept\n",
    "    line_eq = \"y = \" + str(round(slope,2)) + \"x + \" + str(round(intercept,2))\n",
    "    plt.scatter(x, y)\n",
    "    plt.plot(x,regress_values,\"r-\")\n",
    "    return line_eq\n",
    "\n",
    "# Define a fuction for annotating\n",
    "def annotate(line_eq, a, b):\n",
    "    plt.annotate(line_eq,(15,20),fontsize=15,color=\"red\")"
   ]
  },
  {
   "cell_type": "code",
   "execution_count": 26,
   "metadata": {},
   "outputs": [
    {
     "name": "stdout",
     "output_type": "stream",
     "text": [
      "The r-squared is : -0.85\n"
     ]
    },
    {
     "data": {
      "image/png": "[encoded data removed]",
      "text/plain": [
       "<Figure size 432x288 with 1 Axes>"
      ]
     },
     "metadata": {
      "needs_background": "light"
     },
     "output_type": "display_data"
    }
   ],
   "source": [
    "equation = linear_agression(northern_hemisphere[\"Lat\"], northern_hemisphere[\"Max Temp\"])\n",
    "annotate(equation, 0, 0)\n",
    "plt.title(\"Northern Hemisphere - Max Temp vs. Latitude Linear Regression\")\n",
    "plt.xlabel(\"Latitude\")\n",
    "plt.ylabel(\"Max Temp (F)\")\n",
    "plt.savefig(\"F:\\Miley\\Data Analyst\\week 6\\python-api-challenge\\WeatherPy\\output_data\\Temp in north.png\")\n",
    "plt.show()"
   ]
  },
  {
   "cell_type": "markdown",
   "metadata": {},
   "source": [
    "Temperature is negatively correlated with latitude and the higher latitude, the lower the maximum temp."
   ]
  },
  {
   "cell_type": "markdown",
   "metadata": {},
   "source": [
    "## Southern Hemisphere - Max Temp vs. Latitude Linear Regression"
   ]
  },
  {
   "cell_type": "code",
   "execution_count": 27,
   "metadata": {},
   "outputs": [
    {
     "name": "stdout",
     "output_type": "stream",
     "text": [
      "The r-squared is : 0.73\n"
     ]
    },
    {
     "data": {
      "image/png": "[encoded data removed]",
      "text/plain": [
       "<Figure size 432x288 with 1 Axes>"
      ]
     },
     "metadata": {
      "needs_background": "light"
     },
     "output_type": "display_data"
    }
   ],
   "source": [
    "equation = linear_agression(southern_hemisphere[\"Lat\"], southern_hemisphere[\"Max Temp\"])\n",
    "annotate(equation, 0, 0)\n",
    "plt.xlabel(\"Latitude\")\n",
    "plt.ylabel(\"Max Temp\")\n",
    "plt.title (\"Southern Hemisphere - Max Temp vs. Latitude Linear Regression\")\n",
    "plt.savefig(\"F:\\Miley\\Data Analyst\\week 6\\python-api-challenge\\WeatherPy\\output_data\\south_Temp.png\")\n",
    "plt.show()"
   ]
  },
  {
   "cell_type": "markdown",
   "metadata": {},
   "source": [
    "Temperature is positively correlated with latitude and the lower in latitude, the lower the maximum temp."
   ]
  },
  {
   "cell_type": "markdown",
   "metadata": {},
   "source": [
    "#  Northern Hemisphere - Humidity (%) vs. Latitude Linear Regression"
   ]
  },
  {
   "cell_type": "code",
   "execution_count": 28,
   "metadata": {},
   "outputs": [
    {
     "name": "stdout",
     "output_type": "stream",
     "text": [
      "The r-squared is : -0.05\n"
     ]
    },
    {
     "data": {
      "image/png": "[encoded data removed]",
      "text/plain": [
       "<Figure size 432x288 with 1 Axes>"
      ]
     },
     "metadata": {
      "needs_background": "light"
     },
     "output_type": "display_data"
    }
   ],
   "source": [
    "equation = linear_agression(northern_hemisphere[\"Lat\"], northern_hemisphere[\"Humidity\"])\n",
    "annotate(equation, 0, 0)\n",
    "plt.xlabel(\"Latitude\")\n",
    "plt.ylabel(\"Humidity\")\n",
    "plt.title (\"northern Hemisphere - Humidity vs. Latitude Linear Regression\")\n",
    "plt.savefig(\"F:\\Miley\\Data Analyst\\week 6\\python-api-challenge\\WeatherPy\\output_data\\humdity in north.png\")\n",
    "plt.show()"
   ]
  },
  {
   "cell_type": "markdown",
   "metadata": {},
   "source": [
    "Humidity is positively correlated with latitude and the higher the latitude, the higher the humidity."
   ]
  },
  {
   "cell_type": "markdown",
   "metadata": {},
   "source": [
    "#  Southern Hemisphere - Humidity (%) vs. Latitude Linear Regression"
   ]
  },
  {
   "cell_type": "code",
   "execution_count": 32,
   "metadata": {},
   "outputs": [
    {
     "name": "stdout",
     "output_type": "stream",
     "text": [
      "The r-squared is : 0.08\n"
     ]
    },
    {
     "data": {
      "image/png": "[encoded data removed]",
      "text/plain": [
       "<Figure size 432x288 with 1 Axes>"
      ]
     },
     "metadata": {
      "needs_background": "light"
     },
     "output_type": "display_data"
    }
   ],
   "source": [
    "equation = linear_agression(southern_hemisphere[\"Lat\"], southern_hemisphere[\"Humidity\"])\n",
    "annotate(equation, 0, 0)\n",
    "plt.xlabel(\"Latitude\")\n",
    "plt.ylabel(\"Humidity(%)\")\n",
    "plt.title (\"Southern Hemisphere - Humidity vs. Latitude Linear Regression\")\n",
    "plt.savefig(\"F:\\Miley\\Data Analyst\\week 6\\python-api-challenge\\WeatherPy\\output_data\\south_hum.png\")\n",
    "plt.show()\n"
   ]
  },
  {
   "cell_type": "markdown",
   "metadata": {},
   "source": [
    "Humidity is somehow negatively correlated with latitude and the lower the latitude, the higher the humidity."
   ]
  },
  {
   "cell_type": "markdown",
   "metadata": {},
   "source": [
    "# Northern Hemisphere - Cloudiness (%) vs. Latitude Linear Regression"
   ]
  },
  {
   "cell_type": "code",
   "execution_count": 33,
   "metadata": {},
   "outputs": [
    {
     "name": "stdout",
     "output_type": "stream",
     "text": [
      "The r-squared is : 0.06\n"
     ]
    },
    {
     "data": {
      "image/png": "[encoded data removed]",
      "text/plain": [
       "<Figure size 432x288 with 1 Axes>"
      ]
     },
     "metadata": {
      "needs_background": "light"
     },
     "output_type": "display_data"
    }
   ],
   "source": [
    "equation = linear_agression(northern_hemisphere[\"Lat\"], northern_hemisphere[\"Cloudiness\"])\n",
    "annotate(equation, 0, 0)\n",
    "plt.xlabel(\"Latitude\")\n",
    "plt.ylabel(\"Cloudiness(%)\")\n",
    "plt.title (\"Northern Hemisphere - Cloudiness(%) vs. Latitude Linear Regression\")\n",
    "plt.savefig(\"F:\\Miley\\Data Analyst\\week 6\\python-api-challenge\\WeatherPy\\output_data\\cloud in north.png\")\n",
    "plt.show()"
   ]
  },
  {
   "cell_type": "markdown",
   "metadata": {},
   "source": [
    "Cloudiness is some positively correlated with latitude howerve, the higher the latitude, the higher the cloudiness."
   ]
  },
  {
   "cell_type": "markdown",
   "metadata": {},
   "source": [
    "#  Southern Hemisphere - Cloudiness (%) vs. Latitude Linear Regression"
   ]
  },
  {
   "cell_type": "code",
   "execution_count": 34,
   "metadata": {},
   "outputs": [
    {
     "name": "stdout",
     "output_type": "stream",
     "text": [
      "The r-squared is : 0.13\n"
     ]
    },
    {
     "data": {
      "image/png": "[encoded data removed]",
      "text/plain": [
       "<Figure size 432x288 with 1 Axes>"
      ]
     },
     "metadata": {
      "needs_background": "light"
     },
     "output_type": "display_data"
    }
   ],
   "source": [
    "equation = linear_agression(southern_hemisphere[\"Lat\"], southern_hemisphere[\"Cloudiness\"])\n",
    "annotate(equation, 0, 0)\n",
    "plt.xlabel(\"Latitude\")\n",
    "plt.ylabel(\"Cloudiness(%)\")\n",
    "plt.title (\"Southern Hemisphere - Cloudiness vs. Latitude Linear Regression\")\n",
    "plt.savefig(\"F:\\Miley\\Data Analyst\\week 6\\python-api-challenge\\WeatherPy\\output_data\\south_clo.png\")\n",
    "plt.show()"
   ]
  },
  {
   "cell_type": "markdown",
   "metadata": {},
   "source": [
    "Cloudiness is positively correlated with latitude. As the lower between 0 to -40 latitude, the higher the cloudiness."
   ]
  },
  {
   "cell_type": "markdown",
   "metadata": {},
   "source": [
    "#  Northern Hemisphere - Wind Speed (mph) vs. Latitude Linear Regression"
   ]
  },
  {
   "cell_type": "code",
   "execution_count": 30,
   "metadata": {},
   "outputs": [
    {
     "name": "stdout",
     "output_type": "stream",
     "text": [
      "The r-squared is : 0.12\n"
     ]
    },
    {
     "data": {
      "image/png": "[encoded data removed]",
      "text/plain": [
       "<Figure size 432x288 with 1 Axes>"
      ]
     },
     "metadata": {
      "needs_background": "light"
     },
     "output_type": "display_data"
    }
   ],
   "source": [
    "equation = linear_agression(northern_hemisphere[\"Lat\"], northern_hemisphere[\"Wind Speed\"])\n",
    "annotate(equation, 0, 0)\n",
    "plt.xlabel(\"Latitude\")\n",
    "plt.ylabel(\"Wind Speed(mph)\")\n",
    "plt.title (\"Northern Hemisphere - Wind Spped(mph) vs. Latitude Linear Regression\")\n",
    "plt.savefig(\"F:\\Miley\\Data Analyst\\week 6\\python-api-challenge\\WeatherPy\\output_data\\wind_north.png\")\n",
    "plt.show()"
   ]
  },
  {
   "cell_type": "markdown",
   "metadata": {},
   "source": [
    "As the figure above, there is a weak positive correlation between latitude and windspeed for northern hemisphere."
   ]
  },
  {
   "cell_type": "markdown",
   "metadata": {},
   "source": [
    "# Southern Hemisphere - Wind Speed (mph) vs. Latitude Linear Regression"
   ]
  },
  {
   "cell_type": "code",
   "execution_count": 36,
   "metadata": {},
   "outputs": [
    {
     "name": "stdout",
     "output_type": "stream",
     "text": [
      "The r-squared is : -0.08\n"
     ]
    },
    {
     "data": {
      "image/png": "[encoded data removed]",
      "text/plain": [
       "<Figure size 432x288 with 1 Axes>"
      ]
     },
     "metadata": {
      "needs_background": "light"
     },
     "output_type": "display_data"
    }
   ],
   "source": [
    "equation = linear_agression(southern_hemisphere[\"Lat\"], southern_hemisphere[\"Wind Speed\"])\n",
    "annotate(equation, 0, 0)             \n",
    "plt.xlabel(\"Latitude\")\n",
    "plt.ylabel(\"Wind Speed(mph)\")\n",
    "plt.title (\"Southern Hemisphere - Wind speed(mph) vs. Latitude Linear Regression\")\n",
    "plt.savefig(\"F:\\Miley\\Data Analyst\\week 6\\python-api-challenge\\WeatherPy\\output_data\\south_wind.png\")\n",
    "plt.show()"
   ]
  },
  {
   "cell_type": "markdown",
   "metadata": {},
   "source": [
    "As the figure above, there is a weak negative correlation between latitude and wind speed for southern hemisphere."
   ]
  },
  {
   "cell_type": "markdown",
   "metadata": {},
   "source": [
    "# Observation \n",
    "As expected, the weather becomes significantly warmer as one approaches the equator (0 Deg. Latitude). More interestingly, however, the fact that the southern hemisphere tends to be warmer this time of year than the northern hemisphere. This may be due to the tilt of the earth.There is no strong relationship between latitude and cloudiness. However, it is interesting to see that a strong band of cities sits at 0, 80, and 100% cloudiness.There is no strong relationship between latitude and wind speed. However, in northern hemispheres there is a flurry of cities with over 20 mph of wind."
   ]
  }
 ],
 "metadata": {
  "anaconda-cloud": {},
  "kernel_info": {
   "name": "python3"
  },
  "kernelspec": {
   "display_name": "Python 3",
   "language": "python",
   "name": "python3"
  },
  "language_info": {
   "codemirror_mode": {
    "name": "ipython",
    "version": 3
   },
   "file_extension": ".py",
   "mimetype": "text/x-python",
   "name": "python",
   "nbconvert_exporter": "python",
   "pygments_lexer": "ipython3",
   "version": "3.8.8"
  },
  "latex_envs": {
   "LaTeX_envs_menu_present": true,
   "autoclose": false,
   "autocomplete": true,
   "bibliofile": "biblio.bib",
   "cite_by": "apalike",
   "current_citInitial": 1,
   "eqLabelWithNumbers": true,
   "eqNumInitial": 1,
   "hotkeys": {
    "equation": "Ctrl-E",
    "itemize": "Ctrl-I"
   },
   "labels_anchors": false,
   "latex_user_defs": false,
   "report_style_numbering": false,
   "user_envs_cfg": false
  },
  "nteract": {
   "version": "0.12.3"
  }
 },
 "nbformat": 4,
 "nbformat_minor": 2
}
